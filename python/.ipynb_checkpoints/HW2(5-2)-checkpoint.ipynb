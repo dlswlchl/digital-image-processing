{
 "cells": [
  {
   "cell_type": "markdown",
   "id": "403c7eb7",
   "metadata": {},
   "source": [
    "### Bilateral filter"
   ]
  },
  {
   "cell_type": "code",
   "execution_count": null,
   "id": "035f3a8f",
   "metadata": {},
   "outputs": [],
   "source": [
    "from tqdm import tqdm"
   ]
  },
  {
   "cell_type": "markdown",
   "id": "a6ff1780",
   "metadata": {},
   "source": [
    "- 상수 리스트 생성"
   ]
  },
  {
   "cell_type": "code",
   "execution_count": null,
   "id": "e4fe6cd8",
   "metadata": {},
   "outputs": [],
   "source": [
    "BILATERAL_FILTER_SIZE = 7\n",
    "BILATERAL_FILTER_SPACE_STD_LIST = [1, 4, 16]\n",
    "BILATERAL_FILTER_RANGE_STD_LIST = [0.01, 0.05, 1.0]"
   ]
  },
  {
   "cell_type": "markdown",
   "id": "4cc121f7",
   "metadata": {},
   "source": [
    "- 함수 생성"
   ]
  },
  {
   "cell_type": "code",
   "execution_count": null,
   "id": "9f40a7d6",
   "metadata": {},
   "outputs": [],
   "source": [
    "from func import *\n",
    "\n",
    "\n",
    "def bilateral_filter(image, diameter, sigma_r, sigma_s):\n",
    "    radius = (diameter - 1) // 2\n",
    "    height, width = image.shape\n",
    "    output = np.zeros(image.shape)\n",
    "    for i in tqdm(range(height)):\n",
    "        for j in range(width):\n",
    "            pixel_sum = 0\n",
    "            weight_sum = 0\n",
    "            for k in range(max(0, i - radius), min(height, i + radius + 1)):\n",
    "                for l in range(max(0, j - radius), min(width, j + radius + 1)):\n",
    "                    weight = calculate_weight(image, i, j, k, l, sigma_r, sigma_s)\n",
    "                    weight_sum += weight\n",
    "                    pixel_sum += weight * image[k, l]\n",
    "\n",
    "            output[i, j] = pixel_sum / weight_sum\n",
    "\n",
    "    return output\n",
    "\n",
    "noisy_image = cv2.imread('../img/noisyblur_lenna.jpg', cv2.IMREAD_GRAYSCALE) / 255"
   ]
  },
  {
   "cell_type": "markdown",
   "id": "15cc82ce",
   "metadata": {},
   "source": [
    "- 실행"
   ]
  },
  {
   "cell_type": "code",
   "execution_count": null,
   "id": "cc38278d",
   "metadata": {},
   "outputs": [],
   "source": [
    "for RANGE in BILATERAL_FILTER_RANGE_STD_LIST:\n",
    "    for SPACE in BILATERAL_FILTER_SPACE_STD_LIST:\n",
    "        denoised_image = bilateral_filter(noisy_image, BILATERAL_FILTER_SIZE, SPACE, RANGE)##s\n",
    "        plt.imshow(denoised_image, cmap='gray')\n",
    "        print(f\"σr: {RANGE}, σs: {SPACE}\")\n",
    "        plt.show()"
   ]
  },
  {
   "cell_type": "markdown",
   "id": "c76124fb",
   "metadata": {},
   "source": [
    "### NLM filter"
   ]
  },
  {
   "cell_type": "code",
   "execution_count": null,
   "id": "64606491",
   "metadata": {},
   "outputs": [],
   "source": []
  },
  {
   "cell_type": "code",
   "execution_count": null,
   "id": "c1743576",
   "metadata": {},
   "outputs": [],
   "source": [
    "from func import *\n",
    "noisy_image = cv2.imread('../img/noisy_cube.jpg', cv2.IMREAD_GRAYSCALE) / 255\n",
    "\n",
    "PATCH_SIZE = 5\n",
    "REDUCED_PATCH_SIZE = 10\n",
    "NLM_RANGE_STD = 0.05\n",
    "\n",
    "\n",
    "def nlm(image, patch_size, reduced_patch_size, sigma_r, num_neighbors=10):\n",
    "    radius = patch_size // 2\n",
    "    height, width = image.shape\n",
    "\n",
    "    padded_image = np.pad(image, radius, mode='reflect')\n",
    "    patches = np.zeros((height * width, patch_size ** 2,))\n",
    "    for i in range(radius, height + radius):\n",
    "        for j in range(radius, width + radius):\n",
    "            patch = padded_image[i - radius:i + radius + 1, j - radius:j + radius + 1]\n",
    "            patches[(i - radius) * width + (j - radius), :] = patch.flatten()\n",
    "\n",
    "    transformed_patches = sklearn.decomposition.PCA(n_components=reduced_patch_size).fit_transform(patches)\n",
    "    tree = sklearn.neighbors.BallTree(transformed_patches, leaf_size=2)\n",
    "    output = np.zeros_like(image)\n",
    "    for i in range(height):\n",
    "        for j in range(width):\n",
    "            patch_index = i * width + j\n",
    "            patch = patches[patch_index]\n",
    "            representative_patch = np.expand_dims(transformed_patches[patch_index], 0)\n",
    "            _, neighbor_indices = tree.query(representative_patch, k=num_neighbors)\n",
    "            neighbor_indices = neighbor_indices[0, 1:]\n",
    "            pixel_indices = np.array([\n",
    "                (neighbor_index // width, neighbor_index % width)\n",
    "                for neighbor_index in neighbor_indices\n",
    "            ])\n",
    "\n",
    "            pixels = image[pixel_indices[:, 0], pixel_indices[:, 1]]\n",
    "            weights = np.array([\n",
    "                gaussian_distance(patch, patches[neighbor_index], sigma_r)\n",
    "                for neighbor_index in neighbor_indices\n",
    "            ])\n",
    "\n",
    "            output[i, j] = np.sum(weights * pixels) / np.sum(weights)\n",
    "\n",
    "    return output\n",
    "\n",
    "\n",
    "nlm_image = nlm(noisy_image, PATCH_SIZE, REDUCED_PATCH_SIZE, NLM_RANGE_STD)\n",
    "\n",
    "plt.imshow(nlm_image, cmap='gray')\n",
    "plt.show()"
   ]
  }
 ],
 "metadata": {
  "kernelspec": {
   "display_name": "Python 3 (ipykernel)",
   "language": "python",
   "name": "python3"
  },
  "language_info": {
   "codemirror_mode": {
    "name": "ipython",
    "version": 3
   },
   "file_extension": ".py",
   "mimetype": "text/x-python",
   "name": "python",
   "nbconvert_exporter": "python",
   "pygments_lexer": "ipython3",
   "version": "3.9.7"
  }
 },
 "nbformat": 4,
 "nbformat_minor": 5
}
